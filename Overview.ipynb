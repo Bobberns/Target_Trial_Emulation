{
 "cells": [
  {
   "cell_type": "markdown",
   "metadata": {},
   "source": [
    "<div align=\"center\">\n",
    "\n",
    "###### ***Assignment 3: by Jonaz Juan Sayson and Fabiola Villanueva***\n",
    "\n",
    "</div>\n",
    "\n",
    "<div align=\"center\"> \n",
    "\n",
    "# **\"Target Trial Emulation (TTE)\"**\n",
    "\n",
    "</div>"
   ]
  },
  {
   "cell_type": "markdown",
   "metadata": {},
   "source": [
    "<div align=\"justify\">\n",
    "\n",
    "### **Instructions**\n",
    "\n",
    "1. Go to link: **[Target Trial Emulation in R Website Link](https://rpubs.com/alanyang0924/TTE)** </br>\n",
    "2. Extract the dummy data set in the package and save it as \"**data_censored.csv**\"; <span style=\"color: rgb(114, 114, 114);\">*Filepath: /Dataset/data_censored.csv*</span>\n",
    "3. Covert the Target Trial Imulation implemented in R Code into Python **(TTE-v1)**\n",
    "4. Duplicate TTE-v1 and integrate clustering in where you see fit during the process **(TTE-v2)**\n",
    "\n",
    "</div>\n",
    "\n",
    "---"
   ]
  },
  {
   "cell_type": "markdown",
   "metadata": {},
   "source": [
    "<div align=\"justify\"> \n",
    "\n",
    "### **Target Trial Emulation in R Using the TrialEmulation Package**\n",
    "\n",
    "Target Trial Emulation (TTE) is a method that applies Randomized Controlled Trial (RCT) design principles to analyze observational data, aiming to estimate causal treatment effects similar to those from an RCT. Here's a simplified overview of implementing TTE in R using the TrialEmulation package:\n",
    "\n",
    "##### **Steps for Implementation**\n",
    "\n",
    "1. <span style=\"color: rgb(255, 123, 0);\">**Setup:**</span> A sequence of target trials analysis starts by specifying which estimand will be used, such as intention-to-treat (ITT) or per-protocol (PP). This determines how treatment adherence is handled in the analysis.\n",
    "\n",
    "2. <span style=\"color:rgb(255, 123, 0);\">**Data Preparation:**</span> Specify the observational input data to be used for the target trial emulation. This involves identifying which columns contain key values (e.g., treatment, outcome, eligibility) and how they should be used to align the data with the hypothetical RCT being emulated.\n",
    "\n",
    "3. <span style=\"color:rgb(255, 123, 0);\">**Weight Models and Censoring:**</span> To adjust for the effects of informative censoring, inverse probability of censoring weights (IPCW) are applied. Time-to-censoring event models are constructed to estimate these weights, addressing two types of censoring mechanisms:\n",
    "\n",
    "    3.1 <span style=\"color:rgb(0, 207, 121);\">**Censoring Due to Treatment Switching:**</span> Specify model formulas to calculate the probability of receiving treatment in the current period. Separate models are fitted for patients with treatment = 1 and treatment = 0 in the previous period. Stabilized weights are used by fitting numerator and denominator models. Optional arguments can specify columns to include/exclude observations from treatment models, useful when patients cannot deviate from certain treatment assignments in a given period.\n",
    "  \n",
    "    3.2 <span style=\"color:rgb(0, 207, 121);\">**Other Informative Censoring:**</span> For additional informative censoring, create similar models to estimate IPCW. These models are applicable to all estimands (e.g., ITT, PP). The censor_event column (e.g., censored) must be specified to indicate censoring events.\n",
    "\n",
    "4. <span style=\"color:rgb(255, 123, 0);\">**Calculate Weights:**</span> Fit the individual censoring models and combine them into weights using a function like calculate_weights(). This step computes the IPCW weights needed for unbiased analysis.\n",
    "\n",
    "5. <span style=\"color:rgb(255, 123, 0);\">**Specify Outcome Model:**</span> Define the outcome model, including adjustment terms for variables in the dataset. Numerator terms from the stabilized weight models are automatically included in the outcome model formula to account for censoring adjustments.\n",
    "\n",
    "6. <span style=\"color:rgb(255, 123, 0);\">**Expand Trials:**</span> Create a dataset containing the sequence of target trials by transforming the observational data into a format that mimics a series of RCTs.\n",
    "\n",
    "    6.1 <span style=\"color:rgb(0, 207, 121);\">**Create Sequence of Trials Data:**</span> Generate the expanded dataset representing the sequence of trials, preparing it for outcome modeling.\n",
    "\n",
    "7. <span style=\"color:rgb(255, 123, 0);\">**Load or Sample from Expanded Data:**</span> Prepare the expanded data for fitting the outcome model. For smaller datasets, this can be done by loading the full expanded data. For large datasets, sampling may be necessary, where a probability (p_control) determines the inclusion of observations with outcome == 0. A seed can be set for reproducibility, and filters like specific periods (e.g., period = 1:60) or conditions (e.g., subset_condition = \"age > 65\") can be applied.\n",
    "\n",
    "8. <span style=\"color:rgb(255, 123, 0);\">**Fit Marginal Structural Model:**</span> Use a function like fit_msm() to fit Marginal Structural Models (MSMs), which estimate causal treatment effects by adjusting for time-varying confounders and providing robust estimates over time.\n",
    "\n",
    "9.  <span style=\"color:rgb(255, 123, 0);\">**Inference:**</span> Predict survival probabilities or cumulative incidences for different treatment scenarios (e.g., varying assigned_treatment). Visualize these predictions to illustrate how survival rates or event rates differ over time between treatment groups, facilitating meaningful inference about treatment effects.\n",
    "\n",
    "##### **Key Concepts**\n",
    "\n",
    "- **Target Trial Protocol**: A hypothetical RCT protocol that guides the design and analysis of the observational study, including eligibility criteria, treatment strategies, outcomes, and analysis plans.\n",
    "- **Inverse Probability of Censoring Weights (IPCW)**: Weights that adjust for biases due to censoring and treatment switching, ensuring unbiased causal effect estimates.\n",
    "- **Marginal Structural Models (MSMs)**: Models used to estimate causal effects by adjusting for time-varying confounders, providing robust estimates of treatment effects over time.\n",
    "\n",
    "---\n",
    "\n",
    "</div>"
   ]
  },
  {
   "cell_type": "markdown",
   "metadata": {},
   "source": [
    "<div align=\"justify\"> \n",
    "\n",
    "### **Target Trial Emulation Version 2**\n",
    "\n",
    "Target Trial Emulation (TTE) Version 2 duplicates from Version 1 but with K-Means Clustering implementation.\n",
    "\n",
    "##### **Areas in Which K-Means Clustering Was Implemented**\n",
    "\n",
    "<span style=\"color:rgb(255, 123, 0);\">**Data Preparation: Exploring Patient Subgroups**</span> \n",
    "\n",
    "The 3D scatter plot visualizes data points clustered based on three features: Age, x1, and x2, with the color of the points indicating cluster membership. Two distinct clusters are apparent: one primarily located in the lower-left quadrant, characterized by younger ages and lower x1 values, and another in the upper region, associated with older ages and higher x1 values, suggesting possible patterns or relationships between these variables and the cluster assignments.\n",
    "\n",
    "<span style=\"color:rgb(255, 123, 0);\">**Data Preparation: Pairwise Scatter Plots**</span> \n",
    "\n",
    "For the next subplots, here we see a matrix of pairwise scatter plots and density plots, exploring the relationships between several features (Age, x1, x2, x3, and x4) and cluster assignments (0, 1, and 2). The diagonal displays density plots showing the distribution of each feature for each cluster, while the off-diagonal plots show pairwise relationships between features, colored by cluster membership, revealing how the clusters differ across these variables and highlighting potential correlations or patterns.\n",
    "\n",
    "<span style=\"color:rgb(255, 123, 0);\">**Implementation of K-Means Clustering: Patient Groups Based on Longitudinal Behavior**</span>\n",
    "\n",
    "The heatmap visualizes cluster centroids, representing the mean values of longitudinal features for each cluster (0, 1, and 2). Each row corresponds to a cluster, and each column represents a feature like \"followup_time,\" \"outcome,\" \"treatment_switches,\" \"censored,\" etc. **The color intensity indicates the magnitude of the mean value, with darker shades representing higher values.** From this plot, we can infer which features are most characteristic of each cluster, revealing patterns in how these longitudinal features differ across the clusters. For example, Cluster 1 has a notably high \"trial_period\" value, while Cluster 2 has a high \"outcome\" value.\n",
    "\n",
    "</div>"
   ]
  },
  {
   "cell_type": "markdown",
   "metadata": {},
   "source": [
    "<div align=\"center\"> \n",
    "\n",
    "###### ***FIN: by Jonaz Juan Sayson and Fabiola Villanueva***\n",
    "\n",
    "</div>"
   ]
  }
 ],
 "metadata": {
  "language_info": {
   "name": "python"
  }
 },
 "nbformat": 4,
 "nbformat_minor": 2
}
