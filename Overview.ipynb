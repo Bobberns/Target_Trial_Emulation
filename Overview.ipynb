{
 "cells": [
  {
   "cell_type": "markdown",
   "metadata": {},
   "source": [
    "<div align=\"center\">\n",
    "\n",
    "###### ***Assignment 3: by Jonaz Juan Sayson and Fabiola Villanueva***\n",
    "\n",
    "</div>\n",
    "\n",
    "<div align=\"center\"> \n",
    "\n",
    "# **\"Target Trial Emulation (TTE)\"**\n",
    "\n",
    "</div>"
   ]
  },
  {
   "cell_type": "markdown",
   "metadata": {},
   "source": [
    "<div align=\"justify\">\n",
    "\n",
    "Go to link: **[Target Trial Emulation in R Website Link](https://rpubs.com/alanyang0924/TTE)** </br>\n",
    "Extract the dummy data set in the package and save it as \"**data_censored.csv**\"\n",
    "\n",
    "*Filepath: /Dataset/data_censore.csv*\n",
    "\n",
    "</div>"
   ]
  },
  {
   "cell_type": "markdown",
   "metadata": {},
   "source": [
    "<div align=\"justify\"> \n",
    "\n",
    "### **Target Trial Emulation in R Using the TrialEmulation Package**\n",
    "\n",
    "Target Trial Emulation (TTE) is a method that applies Randomized Controlled Trial (RCT) design principles to analyze observational data, aiming to estimate causal treatment effects similar to those from an RCT. Here's a simplified overview of implementing TTE in R using the TrialEmulation package:\n",
    "\n",
    "##### **Steps for Implementation**\n",
    "\n",
    "1. <span style=\"color:rgb(255, 0, 149);\">**Define the Estimand**</span>: Specify the type of effect you want to estimate, such as **intention-to-treat (ITT)** or **per-protocol (PP)**. This determines how treatment adherence is handled in the analysis.\n",
    "\n",
    "2. <span style=\"color: rgb(255, 0, 149);\">**Prepare Observational Data**</span>: Ensure your dataset includes columns for treatment, outcomes, and eligibility criteria. This step is crucial for aligning your observational data with the hypothetical RCT you are emulating.\n",
    "\n",
    "3. <span style=\"color: rgb(255, 0, 149);\">**Address Censoring Mechanisms**</span>: Use **inverse probability of censoring weights (IPCW)** to adjust for biases due to treatment switching and informative censoring. This involves fitting separate models to calculate these weights.\n",
    "\n",
    "4. <span style=\"color: rgb(255, 0, 149);\">**Expand Observational Data into Trial Datasets**</span>: Use predefined expansion options to create trial-specific datasets from your observational data. This step involves transforming your data into a format that mimics a sequence of RCTs.\n",
    "\n",
    "5. <span style=\"color: rgb(255, 0, 149);\">**Fit Marginal Structural Models (MSMs)**</span>: MSMs are used to estimate the causal effects of treatments. These models adjust for time-varying confounders and provide estimates of treatment effects over time.\n",
    "\n",
    "6. <span style=\"color: rgb(255, 0, 149);\">**Generate Predictions and Visualizations**</span>: Predict survival probabilities and cumulative incidences for different treatment scenarios. Visualize these predictions to illustrate how survival rates differ over time between treatment groups, facilitating meaningful inference about treatment effects.\n",
    "\n",
    "##### **Key Concepts**\n",
    "\n",
    "- **Target Trial Protocol**: This is a hypothetical RCT protocol that guides the design and analysis of the observational study. It includes eligibility criteria, treatment strategies, outcomes, and analysis plans.\n",
    "- **Inverse Probability of Censoring Weights (IPCW)**: These weights help adjust for biases due to censoring and treatment switching, ensuring that the analysis remains unbiased.\n",
    "- **Marginal Structural Models (MSMs)**: These models are used to estimate causal effects by adjusting for time-varying confounders and providing robust estimates of treatment effects.\n",
    "\n",
    "</div>"
   ]
  }
 ],
 "metadata": {
  "language_info": {
   "name": "python"
  }
 },
 "nbformat": 4,
 "nbformat_minor": 2
}
