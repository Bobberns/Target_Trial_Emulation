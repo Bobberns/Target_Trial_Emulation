{
 "cells": [
  {
   "cell_type": "markdown",
   "metadata": {},
   "source": [
    "<div align=\"center\">\n",
    "\n",
    "###### ***Assignment 3: by Jonaz Juan Sayson and Fabiola Villanueva***\n",
    "\n",
    "</div>\n",
    "\n",
    "<div align=\"center\"> \n",
    "\n",
    "# **\"Target Trial Emulation\"**\n",
    "\n",
    "</div>"
   ]
  },
  {
   "cell_type": "markdown",
   "metadata": {},
   "source": [
    "##### **Step 1**\n",
    "\n",
    "Go to link: **[Target Trial Emulation in R Website Link](https://rpubs.com/alanyang0924/TTE)** </br>\n",
    "Extract the dummy data set in the package and save it as \"**data_censored.csv**\"\n",
    "\n",
    "*Filepath: /Dataset/data_censore.csv*"
   ]
  }
 ],
 "metadata": {
  "language_info": {
   "name": "python"
  }
 },
 "nbformat": 4,
 "nbformat_minor": 2
}
