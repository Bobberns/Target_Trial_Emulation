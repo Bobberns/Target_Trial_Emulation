{
 "cells": [
  {
   "cell_type": "markdown",
   "metadata": {},
   "source": [
    "<div align=\"center\"> \n",
    "\n",
    "# **\"TTE Conversion from R to Python (TTE-v1)\"**\n",
    "\n",
    "</div>\n",
    "\n",
    "<div align=\"justify\"> \n",
    "\n",
    "### **Python Library Imports**\n",
    "\n",
    "</div>"
   ]
  },
  {
   "cell_type": "code",
   "execution_count": 11,
   "metadata": {},
   "outputs": [],
   "source": [
    "import os\n",
    "import pandas as pd\n",
    "import numpy as np\n",
    "import statsmodels.api as sm\n",
    "import statsmodels.formula.api as smf\n",
    "from pathlib import Path\n",
    "import matplotlib.pyplot as plt\n",
    "from sklearn.linear_model import LogisticRegression\n",
    "from dataclasses import dataclass\n",
    "from typing import Optional, List, Dict, Union"
   ]
  },
  {
   "cell_type": "markdown",
   "metadata": {},
   "source": [
    "<div align=\"justify\"> \n",
    "\n",
    "### <span style=\"color:rgb(255, 0, 149);\">**Step 1: Define the Estimand**</span>\n",
    "Specify the type of effect you want to estimate, such as ***intention-to-treat (ITT)*** or ***per-protocol (PP)***. This determines how treatment adherence is handled in the analysis.\n",
    "\n",
    "</div>"
   ]
  },
  {
   "cell_type": "code",
   "execution_count": 12,
   "metadata": {},
   "outputs": [
    {
     "name": "stdout",
     "output_type": "stream",
     "text": [
      "Per-Protocol (PP) directory: ../Datasets\\trial_pp\n",
      "Intention-to-Treat (ITT) directory: ../Datasets\\trial_itt\n"
     ]
    }
   ],
   "source": [
    "# Step 1: Specify the estimand\n",
    "trial_pp = {\"estimand\": \"PP\"}  # Per-protocol\n",
    "trial_itt = {\"estimand\": \"ITT\"}  # Intention-to-treat\n",
    "\n",
    "# Step 2: Define the base directory as \"./Dataset\"\n",
    "base_dir = \"../Datasets\"\n",
    "\n",
    "# Step 3: Create directories to save files\n",
    "trial_pp_dir = os.path.join(base_dir, \"trial_pp\")\n",
    "trial_itt_dir = os.path.join(base_dir, \"trial_itt\")\n",
    "\n",
    "# Create the directories (including the base directory if it doesn't exist)\n",
    "os.makedirs(trial_pp_dir, exist_ok=True)\n",
    "os.makedirs(trial_itt_dir, exist_ok=True)\n",
    "\n",
    "# Print the paths for verification\n",
    "print(f\"Per-Protocol (PP) directory: {trial_pp_dir}\")\n",
    "print(f\"Intention-to-Treat (ITT) directory: {trial_itt_dir}\")"
   ]
  },
  {
   "cell_type": "markdown",
   "metadata": {},
   "source": [
    "<div align=\"justify\"> \n",
    "\n",
    "### <span style=\"color:rgb(255, 0, 149);\">**Step 2: Prepare Observational Data**</span>\n",
    "Ensure your dataset includes columns for treatment, outcomes, and eligibility criteria. This step is crucial for aligning your observational data with the hypothetical RCT you are emulating.\n",
    "\n",
    "</div>"
   ]
  },
  {
   "cell_type": "markdown",
   "metadata": {},
   "source": [
    "<div align=\"justify\"> \n",
    "\n",
    "### <span style=\"color:rgb(255, 0, 149);\">**Step 3: Address Censoring Mechanisms**</span>\n",
    "Use **inverse probability of censoring weights (IPCW)** to adjust for biases due to treatment switching and informative censoring. This involves fitting separate models to calculate these weights.\n",
    "\n",
    "</div>"
   ]
  },
  {
   "cell_type": "markdown",
   "metadata": {},
   "source": [
    "<div align=\"justify\"> \n",
    "\n",
    "### <span style=\"color:rgb(255, 0, 149);\">**Step 4: Expand Observational Data into Trial Datasets**</span>\n",
    "Use predefined expansion options to create trial-specific datasets from your observational data. This step involves transforming your data into a format that mimics a sequence of RCTs.\n",
    "\n",
    "</div>"
   ]
  },
  {
   "cell_type": "markdown",
   "metadata": {},
   "source": [
    "<div align=\"justify\"> \n",
    "\n",
    "### <span style=\"color:rgb(255, 0, 149);\">**Step 5: Fit Marginal Structural Models (MSMs)**</span>\n",
    "MSMs are used to estimate the causal effects of treatments. These models adjust for time-varying confounders and provide estimates of treatment effects over time.\n",
    "\n",
    "</div>"
   ]
  },
  {
   "cell_type": "markdown",
   "metadata": {},
   "source": [
    "<div align=\"justify\"> \n",
    "\n",
    "### <span style=\"color:rgb(255, 0, 149);\">**Step 6: Generate Predictions and Visualizations**</span>\n",
    "Predict survival probabilities and cumulative incidences for different treatment scenarios. Visualize these predictions to illustrate how survival rates differ over time between treatment groups, facilitating meaningful inference about treatment effects.\n",
    "\n",
    "</div>"
   ]
  }
 ],
 "metadata": {
  "kernelspec": {
   "display_name": "Python 3",
   "language": "python",
   "name": "python3"
  },
  "language_info": {
   "codemirror_mode": {
    "name": "ipython",
    "version": 3
   },
   "file_extension": ".py",
   "mimetype": "text/x-python",
   "name": "python",
   "nbconvert_exporter": "python",
   "pygments_lexer": "ipython3",
   "version": "3.13.2"
  }
 },
 "nbformat": 4,
 "nbformat_minor": 2
}
